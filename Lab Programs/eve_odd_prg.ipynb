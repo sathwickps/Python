{
 "cells": [
  {
   "cell_type": "code",
   "execution_count": 6,
   "id": "97f1078d",
   "metadata": {},
   "outputs": [
    {
     "name": "stdout",
     "output_type": "stream",
     "text": [
      "Enter the size of list 3\n",
      "Enter the element 5\n",
      "Enter the element 2\n",
      "Enter the element 8\n",
      "Even Sum =  10\n",
      "Odd Sum =  5\n"
     ]
    }
   ],
   "source": [
    "list=[]\n",
    "n=int(input(\"Enter the size of list \"))\n",
    "for i in range(1,n+1):\n",
    "    ele=int(input(\"Enter the element \"))\n",
    "    list.append(ele)\n",
    "sume=0\n",
    "sumo=0\n",
    "for i in list:\n",
    "    if(i%2==0):\n",
    "        sume+=i\n",
    "    else:\n",
    "        sumo+=i\n",
    "print(\"Even Sum = \",sume)\n",
    "print(\"Odd Sum = \",sumo)"
   ]
  },
  {
   "cell_type": "code",
   "execution_count": null,
   "id": "76c40fc3",
   "metadata": {},
   "outputs": [],
   "source": []
  }
 ],
 "metadata": {
  "kernelspec": {
   "display_name": "Python 3 (ipykernel)",
   "language": "python",
   "name": "python3"
  },
  "language_info": {
   "codemirror_mode": {
    "name": "ipython",
    "version": 3
   },
   "file_extension": ".py",
   "mimetype": "text/x-python",
   "name": "python",
   "nbconvert_exporter": "python",
   "pygments_lexer": "ipython3",
   "version": "3.10.9"
  }
 },
 "nbformat": 4,
 "nbformat_minor": 5
}
