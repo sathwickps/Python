{
 "cells": [
  {
   "cell_type": "code",
   "execution_count": 7,
   "id": "876be544",
   "metadata": {},
   "outputs": [
    {
     "data": {
      "text/plain": [
       "'Radio is old'"
      ]
     },
     "execution_count": 7,
     "metadata": {},
     "output_type": "execute_result"
    }
   ],
   "source": [
    "str=\"radio is old\"\n",
    "str1=\"RADIO IS OLD\""
   ]
  },
  {
   "cell_type": "code",
   "execution_count": 6,
   "id": "2b285475",
   "metadata": {},
   "outputs": [
    {
     "data": {
      "text/plain": [
       "'RADIO IS OLD'"
      ]
     },
     "execution_count": 6,
     "metadata": {},
     "output_type": "execute_result"
    }
   ],
   "source": [
    "#uppercase\n",
    "str.upper()\n"
   ]
  },
  {
   "cell_type": "code",
   "execution_count": 5,
   "id": "4b8b10ab",
   "metadata": {},
   "outputs": [
    {
     "data": {
      "text/plain": [
       "'radio is old'"
      ]
     },
     "execution_count": 5,
     "metadata": {},
     "output_type": "execute_result"
    }
   ],
   "source": [
    "#lowercase\n",
    "str1.lower()"
   ]
  },
  {
   "cell_type": "code",
   "execution_count": 8,
   "id": "6ee4a1b2",
   "metadata": {},
   "outputs": [
    {
     "data": {
      "text/plain": [
       "'Radio is old'"
      ]
     },
     "execution_count": 8,
     "metadata": {},
     "output_type": "execute_result"
    }
   ],
   "source": [
    "#uppercasefirstleter\n",
    "str.capitalize()"
   ]
  },
  {
   "cell_type": "code",
   "execution_count": 10,
   "id": "196bd6bc",
   "metadata": {},
   "outputs": [
    {
     "data": {
      "text/plain": [
       "12"
      ]
     },
     "execution_count": 10,
     "metadata": {},
     "output_type": "execute_result"
    }
   ],
   "source": [
    "#countofstring\n",
    "len(str)"
   ]
  },
  {
   "cell_type": "code",
   "execution_count": 13,
   "id": "d2dbdf10",
   "metadata": {},
   "outputs": [
    {
     "data": {
      "text/plain": [
       "True"
      ]
     },
     "execution_count": 13,
     "metadata": {},
     "output_type": "execute_result"
    }
   ],
   "source": [
    "#isupper\n",
    "str1.isupper()"
   ]
  },
  {
   "cell_type": "code",
   "execution_count": 14,
   "id": "50b32094",
   "metadata": {},
   "outputs": [
    {
     "data": {
      "text/plain": [
       "True"
      ]
     },
     "execution_count": 14,
     "metadata": {},
     "output_type": "execute_result"
    }
   ],
   "source": [
    "#islower\n",
    "str.islower()"
   ]
  },
  {
   "cell_type": "code",
   "execution_count": 30,
   "id": "fc02916c",
   "metadata": {},
   "outputs": [
    {
     "name": "stdout",
     "output_type": "stream",
     "text": [
      "radio\n",
      "RADIO IS O\n"
     ]
    }
   ],
   "source": [
    "#sliceoperatin\n",
    "print(str[:5])\n",
    "print(str1[:10])"
   ]
  },
  {
   "cell_type": "code",
   "execution_count": 31,
   "id": "512a3b2a",
   "metadata": {},
   "outputs": [
    {
     "data": {
      "text/plain": [
       "'Hi myself Sathwik'"
      ]
     },
     "execution_count": 31,
     "metadata": {},
     "output_type": "execute_result"
    }
   ],
   "source": [
    "#replace\n",
    "str2=\"Hi Iam Sathwik\"\n",
    "old=\"Iam\"\n",
    "new=\"myself\"\n",
    "str2.replace(old,new)"
   ]
  },
  {
   "cell_type": "code",
   "execution_count": 32,
   "id": "2469229a",
   "metadata": {},
   "outputs": [
    {
     "name": "stdout",
     "output_type": "stream",
     "text": [
      "  e**a**o**i**u\n"
     ]
    }
   ],
   "source": [
    "#join\n",
    "a={'a','e','i','o','u'}\n",
    "s1=\"**\"\n",
    "print(\" \",s1.join(a))"
   ]
  },
  {
   "cell_type": "code",
   "execution_count": 33,
   "id": "29e9a382",
   "metadata": {},
   "outputs": [
    {
     "name": "stdout",
     "output_type": "stream",
     "text": [
      "hi!!\n",
      "**hi\n"
     ]
    }
   ],
   "source": [
    "#lstrip&rstrip\n",
    "s=\"**hi!!\"\n",
    "print(s.lstrip(\"**\"))\n",
    "print(s.rstrip(\"!!\"))"
   ]
  },
  {
   "cell_type": "code",
   "execution_count": 34,
   "id": "a3e7b982",
   "metadata": {},
   "outputs": [
    {
     "name": "stdout",
     "output_type": "stream",
     "text": [
      "Match Found\n"
     ]
    }
   ],
   "source": [
    "#search\n",
    "import re\n",
    "string=\"Allice the wonderland\"\n",
    "pattern=\"wonder\"\n",
    "if re.search(pattern,string):\n",
    "    print(\"Match Found\")\n",
    "    "
   ]
  },
  {
   "cell_type": "code",
   "execution_count": 35,
   "id": "09a1b40a",
   "metadata": {},
   "outputs": [
    {
     "name": "stdout",
     "output_type": "stream",
     "text": [
      "ID of s1 = 1857235322096\n",
      "ID of stradd= 1857236342128\n"
     ]
    }
   ],
   "source": [
    "#idofstring\n",
    "stradd=s+s1\n",
    "print(\"ID of s1 =\",id(s1))\n",
    "print(\"ID of stradd=\",id(stradd))"
   ]
  },
  {
   "cell_type": "code",
   "execution_count": null,
   "id": "387bd849",
   "metadata": {},
   "outputs": [],
   "source": []
  }
 ],
 "metadata": {
  "kernelspec": {
   "display_name": "Python 3 (ipykernel)",
   "language": "python",
   "name": "python3"
  },
  "language_info": {
   "codemirror_mode": {
    "name": "ipython",
    "version": 3
   },
   "file_extension": ".py",
   "mimetype": "text/x-python",
   "name": "python",
   "nbconvert_exporter": "python",
   "pygments_lexer": "ipython3",
   "version": "3.10.9"
  }
 },
 "nbformat": 4,
 "nbformat_minor": 5
}
