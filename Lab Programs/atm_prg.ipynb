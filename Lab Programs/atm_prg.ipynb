{
 "cells": [
  {
   "cell_type": "code",
   "execution_count": 3,
   "id": "4585cf6d",
   "metadata": {},
   "outputs": [
    {
     "name": "stdout",
     "output_type": "stream",
     "text": [
      "Enter the PIN: 2345\n",
      "C for Credit\n",
      "D for Debit\n",
      "E for Exit\n",
      "c\n",
      "Enter Amount: 5000\n",
      "Current Balance: 10000\n",
      "C for Credit\n",
      "D for Debit\n",
      "E for Exit\n",
      "d\n",
      "Enter Amount: 2000\n",
      "Current Balance: 8000\n",
      "C for Credit\n",
      "D for Debit\n",
      "E for Exit\n",
      "d\n",
      "Enter Amount: 8000\n",
      "Current Balance: 0\n",
      "C for Credit\n",
      "D for Debit\n",
      "E for Exit\n",
      "d\n",
      "Enter Amount: 100\n",
      "Insufficient Balance\n",
      "Current Balance: 0\n",
      "C for Credit\n",
      "D for Debit\n",
      "E for Exit\n",
      "e\n"
     ]
    }
   ],
   "source": [
    "class BankAtm:\n",
    "    bal = 5000\n",
    "    pin = 2345\n",
    "\n",
    "    def login(self, entered_pin):\n",
    "        if enterd_pin==2345:\n",
    "            return True\n",
    "        else:\n",
    "            return False\n",
    "\n",
    "    def credit(self, amt):\n",
    "        self.bal += amt\n",
    "\n",
    "    def debit(self, amt):\n",
    "        if amt <= self.bal:\n",
    "            self.bal -= amt\n",
    "        else:\n",
    "            print(\"Insufficient Balance\")\n",
    "\n",
    "    def show(self):\n",
    "        print(\"Current Balance:\", self.bal)\n",
    "\n",
    "\n",
    "obj = BankAtm()\n",
    "n = int(input(\"Enter the PIN: \"))\n",
    "\n",
    "if n == obj.pin:\n",
    "    while True:\n",
    "        o = input(\"\"\"C for Credit\n",
    "D for Debit\n",
    "E for Exit\\n\"\"\").lower()\n",
    "\n",
    "        if o == 'c':\n",
    "            amt = int(input(\"Enter Amount: \"))\n",
    "            obj.credit(amt)\n",
    "            obj.show()\n",
    "        elif o == 'd':\n",
    "            amt = int(input(\"Enter Amount: \"))\n",
    "            obj.debit(amt)\n",
    "            obj.show()\n",
    "        elif o == 'e':\n",
    "            break\n",
    "        else:\n",
    "            print(\"Invalid Option\")\n",
    "else:\n",
    "    print(\"Invalid PIN\")\n"
   ]
  },
  {
   "cell_type": "code",
   "execution_count": null,
   "id": "2a4d38b3",
   "metadata": {},
   "outputs": [],
   "source": []
  }
 ],
 "metadata": {
  "kernelspec": {
   "display_name": "Python 3 (ipykernel)",
   "language": "python",
   "name": "python3"
  },
  "language_info": {
   "codemirror_mode": {
    "name": "ipython",
    "version": 3
   },
   "file_extension": ".py",
   "mimetype": "text/x-python",
   "name": "python",
   "nbconvert_exporter": "python",
   "pygments_lexer": "ipython3",
   "version": "3.10.9"
  }
 },
 "nbformat": 4,
 "nbformat_minor": 5
}
