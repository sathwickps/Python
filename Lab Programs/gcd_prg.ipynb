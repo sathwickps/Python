{
 "cells": [
  {
   "cell_type": "code",
   "execution_count": 2,
   "id": "f77f8f9e",
   "metadata": {},
   "outputs": [
    {
     "name": "stdout",
     "output_type": "stream",
     "text": [
      "Enter the 1st Element 4\n",
      "Enter the second element 10\n",
      "The GCD of 4 10 is 2\n"
     ]
    }
   ],
   "source": [
    "import math as m\n",
    "x=int(input(\"Enter the 1st Element \"))\n",
    "y=int(input(\"Enter the second element \"))\n",
    "print(\"The GCD of\",x,y,\"is\",m.gcd(x,y))"
   ]
  },
  {
   "cell_type": "code",
   "execution_count": 5,
   "id": "b7263772",
   "metadata": {},
   "outputs": [
    {
     "name": "stdout",
     "output_type": "stream",
     "text": [
      "Enter the 1st Element 4\n",
      "Enter the second element 10\n",
      "The GCD of 4 10 is 2\n"
     ]
    }
   ],
   "source": [
    "x=int(input(\"Enter the 1st Element \"))\n",
    "y=int(input(\"Enter the second element \"))\n",
    "n1=x\n",
    "n2=y\n",
    "while(x!=y):\n",
    "    if(x>y):\n",
    "        x=x-y\n",
    "    else:\n",
    "        y=y-x\n",
    "print(\"The GCD of\",n1,n2,\"is\",x)"
   ]
  },
  {
   "cell_type": "code",
   "execution_count": null,
   "id": "933bf12d",
   "metadata": {},
   "outputs": [],
   "source": []
  }
 ],
 "metadata": {
  "kernelspec": {
   "display_name": "Python 3 (ipykernel)",
   "language": "python",
   "name": "python3"
  },
  "language_info": {
   "codemirror_mode": {
    "name": "ipython",
    "version": 3
   },
   "file_extension": ".py",
   "mimetype": "text/x-python",
   "name": "python",
   "nbconvert_exporter": "python",
   "pygments_lexer": "ipython3",
   "version": "3.10.9"
  }
 },
 "nbformat": 4,
 "nbformat_minor": 5
}
