{
 "cells": [
  {
   "cell_type": "code",
   "execution_count": 5,
   "id": "29c6f9af",
   "metadata": {},
   "outputs": [
    {
     "name": "stdout",
     "output_type": "stream",
     "text": [
      "Duplicates: [5, 10]\n"
     ]
    }
   ],
   "source": [
    "from collections import Counter\n",
    "def find_duplicates(sample):\n",
    "    c = Counter(sample)\n",
    "    d= [n for n, c in c.items() if c > 1]\n",
    "    return d\n",
    "\n",
    "list = [1, 2, 3, 4, 5, 5, 6, 7, 8, 9, 10, 10]\n",
    "dup = find_duplicates(list)\n",
    "print(\"Duplicates:\", dup)"
   ]
  }
 ],
 "metadata": {
  "kernelspec": {
   "display_name": "Python 3 (ipykernel)",
   "language": "python",
   "name": "python3"
  },
  "language_info": {
   "codemirror_mode": {
    "name": "ipython",
    "version": 3
   },
   "file_extension": ".py",
   "mimetype": "text/x-python",
   "name": "python",
   "nbconvert_exporter": "python",
   "pygments_lexer": "ipython3",
   "version": "3.10.9"
  }
 },
 "nbformat": 4,
 "nbformat_minor": 5
}
