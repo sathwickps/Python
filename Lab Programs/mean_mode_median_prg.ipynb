{
 "cells": [
  {
   "cell_type": "code",
   "execution_count": 3,
   "id": "dfface50",
   "metadata": {},
   "outputs": [
    {
     "name": "stdout",
     "output_type": "stream",
     "text": [
      "9.5\n"
     ]
    }
   ],
   "source": [
    "#mean\n",
    "def mymean(sample):\n",
    "    return(sum(sample)/len(sample))\n",
    "x=mymean([12,13,14,15,3,4,10,5])\n",
    "print(x)"
   ]
  },
  {
   "cell_type": "code",
   "execution_count": 5,
   "id": "719a7d78",
   "metadata": {},
   "outputs": [
    {
     "data": {
      "text/plain": [
       "3.5"
      ]
     },
     "execution_count": 5,
     "metadata": {},
     "output_type": "execute_result"
    }
   ],
   "source": [
    "#median\n",
    "def my_median(sample):\n",
    "    n=len(sample)\n",
    "    index=n//2\n",
    "    if (n%2):\n",
    "        return sorted(sample)[index]\n",
    "    else:\n",
    "        return sum(sorted(sample)[index-1:index+1])/2\n",
    "my_median([2,3,1,4,5,6])"
   ]
  },
  {
   "cell_type": "code",
   "execution_count": 21,
   "id": "46919779",
   "metadata": {},
   "outputs": [
    {
     "data": {
      "text/plain": [
       "[5, 6]"
      ]
     },
     "execution_count": 21,
     "metadata": {},
     "output_type": "execute_result"
    }
   ],
   "source": [
    "#mode\n",
    "from collections import Counter \n",
    "def mode(sample):\n",
    "    c = Counter(sample)\n",
    "    m = max(c.values())\n",
    "    return [n for n, c in c.items() if c==m]\n",
    "li = [1, 2, 3, 4, 5, 5, 6, 6, 7, 8, 9, 10]\n",
    "mode(li)\n"
   ]
  },
  {
   "cell_type": "code",
   "execution_count": null,
   "id": "ab2b77f4",
   "metadata": {},
   "outputs": [],
   "source": []
  }
 ],
 "metadata": {
  "kernelspec": {
   "display_name": "Python 3 (ipykernel)",
   "language": "python",
   "name": "python3"
  },
  "language_info": {
   "codemirror_mode": {
    "name": "ipython",
    "version": 3
   },
   "file_extension": ".py",
   "mimetype": "text/x-python",
   "name": "python",
   "nbconvert_exporter": "python",
   "pygments_lexer": "ipython3",
   "version": "3.10.9"
  }
 },
 "nbformat": 4,
 "nbformat_minor": 5
}
