{
 "cells": [
  {
   "cell_type": "code",
   "execution_count": 4,
   "id": "10a94675",
   "metadata": {},
   "outputs": [
    {
     "name": "stdout",
     "output_type": "stream",
     "text": [
      "Enter the Number of Elements into the list 3\n",
      "Enter the elements 5\n",
      "Enter the elements 3\n",
      "Enter the elements 1\n",
      "Largest element is  5\n"
     ]
    }
   ],
   "source": [
    "list=[]\n",
    "n=int(input(\"Enter the Number of Elements into the list \"))\n",
    "for i in range(1,n+1):\n",
    "    ele=int(input(\"Enter the elements \"))\n",
    "    list.append(ele)\n",
    "large=list[0]\n",
    "for i in list:\n",
    "    if(i>large):\n",
    "        large=i\n",
    "print(\"Largest element is \",large)"
   ]
  },
  {
   "cell_type": "code",
   "execution_count": 5,
   "id": "9f955f7c",
   "metadata": {},
   "outputs": [
    {
     "name": "stdout",
     "output_type": "stream",
     "text": [
      "Enter the Number of Elements into the list 3\n",
      "Enter the elements 1\n",
      "Enter the elements 4\n",
      "Enter the elements 3\n",
      "Largest element is  4\n"
     ]
    }
   ],
   "source": [
    "list=[]\n",
    "n=int(input(\"Enter the Number of Elements into the list \"))\n",
    "for i in range(1,n+1):\n",
    "    ele=int(input(\"Enter the elements \"))\n",
    "    list.append(ele)\n",
    "print(\"Largest element is \",max(list))"
   ]
  }
 ],
 "metadata": {
  "kernelspec": {
   "display_name": "Python 3 (ipykernel)",
   "language": "python",
   "name": "python3"
  },
  "language_info": {
   "codemirror_mode": {
    "name": "ipython",
    "version": 3
   },
   "file_extension": ".py",
   "mimetype": "text/x-python",
   "name": "python",
   "nbconvert_exporter": "python",
   "pygments_lexer": "ipython3",
   "version": "3.10.9"
  }
 },
 "nbformat": 4,
 "nbformat_minor": 5
}
