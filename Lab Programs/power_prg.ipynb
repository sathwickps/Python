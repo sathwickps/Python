{
 "cells": [
  {
   "cell_type": "code",
   "execution_count": 1,
   "id": "e46387be",
   "metadata": {},
   "outputs": [
    {
     "name": "stdout",
     "output_type": "stream",
     "text": [
      "Enter the Base: 3\n",
      "Enter the Exponent value 2\n",
      "The 2 th power of 3 is 9\n"
     ]
    }
   ],
   "source": [
    "base=int(input(\"Enter the Base: \"))\n",
    "x=int(input(\"Enter the Exponent value \"))\n",
    "print(\"The\",x,\"th power of\",base,\"is\",base**x)\n"
   ]
  },
  {
   "cell_type": "code",
   "execution_count": 2,
   "id": "abeea31e",
   "metadata": {},
   "outputs": [
    {
     "name": "stdout",
     "output_type": "stream",
     "text": [
      "Enter the Base Value3\n",
      "Enter the Exponent value 2\n",
      "The 2 th power of 3 is 9\n"
     ]
    }
   ],
   "source": [
    "base=int(input(\"Enter the Base Value\"))\n",
    "x=int(input(\"Enter the Exponent value \"))\n",
    "print(\"The\",x,\"th power of\",base,\"is\",pow(base,x))"
   ]
  },
  {
   "cell_type": "code",
   "execution_count": null,
   "id": "31da4daf",
   "metadata": {},
   "outputs": [],
   "source": []
  }
 ],
 "metadata": {
  "kernelspec": {
   "display_name": "Python 3 (ipykernel)",
   "language": "python",
   "name": "python3"
  },
  "language_info": {
   "codemirror_mode": {
    "name": "ipython",
    "version": 3
   },
   "file_extension": ".py",
   "mimetype": "text/x-python",
   "name": "python",
   "nbconvert_exporter": "python",
   "pygments_lexer": "ipython3",
   "version": "3.10.9"
  }
 },
 "nbformat": 4,
 "nbformat_minor": 5
}
