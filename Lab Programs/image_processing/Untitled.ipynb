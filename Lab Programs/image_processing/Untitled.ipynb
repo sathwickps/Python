{
 "cells": [
  {
   "cell_type": "code",
   "execution_count": 11,
   "id": "484ceaf2",
   "metadata": {},
   "outputs": [],
   "source": [
    "from PIL import Image as im\n",
    "i=im.open(\"image.png\")\n",
    "i.rotate(45).show()"
   ]
  },
  {
   "cell_type": "code",
   "execution_count": 12,
   "id": "95640d16",
   "metadata": {},
   "outputs": [],
   "source": [
    "im.open(\"image.png\").convert(\"L\").show()"
   ]
  },
  {
   "cell_type": "code",
   "execution_count": 13,
   "id": "eab12052",
   "metadata": {},
   "outputs": [
    {
     "data": {
      "text/plain": [
       "'PNG'"
      ]
     },
     "execution_count": 13,
     "metadata": {},
     "output_type": "execute_result"
    }
   ],
   "source": [
    "i.format"
   ]
  },
  {
   "cell_type": "code",
   "execution_count": null,
   "id": "fad8a1f6",
   "metadata": {},
   "outputs": [],
   "source": []
  }
 ],
 "metadata": {
  "kernelspec": {
   "display_name": "Python 3 (ipykernel)",
   "language": "python",
   "name": "python3"
  },
  "language_info": {
   "codemirror_mode": {
    "name": "ipython",
    "version": 3
   },
   "file_extension": ".py",
   "mimetype": "text/x-python",
   "name": "python",
   "nbconvert_exporter": "python",
   "pygments_lexer": "ipython3",
   "version": "3.10.9"
  }
 },
 "nbformat": 4,
 "nbformat_minor": 5
}
