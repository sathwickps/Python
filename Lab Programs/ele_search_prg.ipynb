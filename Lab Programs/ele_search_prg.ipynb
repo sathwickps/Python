{
 "cells": [
  {
   "cell_type": "code",
   "execution_count": 14,
   "id": "cc6850ee",
   "metadata": {},
   "outputs": [
    {
     "name": "stdout",
     "output_type": "stream",
     "text": [
      "Enter the size of list 3\n",
      "Enter the element 1\n",
      "Enter the element 3\n",
      "Enter the element 6\n",
      "Enter the element to be searched6\n",
      "Element 6 is found in the position 6\n"
     ]
    }
   ],
   "source": [
    "list=[]\n",
    "n=int(input(\"Enter the size of list \"))\n",
    "for i in range(1,n+1):\n",
    "    ele=int(input(\"Enter the element \"))\n",
    "    list.append(ele)\n",
    "key=int(input(\"Enter the element to be searched\"))\n",
    "\n",
    "for i in list:\n",
    "    if(key==i):\n",
    "        flag=1\n",
    "        break\n",
    "if(flag==1):\n",
    "    print(\"Element\",key,\"is found in the position\",format(i))\n",
    "else:\n",
    "    print(\"Element\",key,\" not present in the list\")"
   ]
  },
  {
   "cell_type": "code",
   "execution_count": null,
   "id": "843547ed",
   "metadata": {},
   "outputs": [],
   "source": []
  }
 ],
 "metadata": {
  "kernelspec": {
   "display_name": "Python 3 (ipykernel)",
   "language": "python",
   "name": "python3"
  },
  "language_info": {
   "codemirror_mode": {
    "name": "ipython",
    "version": 3
   },
   "file_extension": ".py",
   "mimetype": "text/x-python",
   "name": "python",
   "nbconvert_exporter": "python",
   "pygments_lexer": "ipython3",
   "version": "3.10.9"
  }
 },
 "nbformat": 4,
 "nbformat_minor": 5
}
