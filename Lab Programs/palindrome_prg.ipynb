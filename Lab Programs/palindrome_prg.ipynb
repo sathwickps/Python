{
 "cells": [
  {
   "cell_type": "code",
   "execution_count": 9,
   "id": "754ea5f2",
   "metadata": {},
   "outputs": [
    {
     "name": "stdout",
     "output_type": "stream",
     "text": [
      "Enter the lower limit 10\n",
      "Enter the upper limit 100\n",
      "11 22 33 44 55 66 77 88 99 "
     ]
    }
   ],
   "source": [
    "ll=int(input(\"Enter the lower limit \"))\n",
    "ul=int(input(\"Enter the upper limit \"))\n",
    "for n in range(ll,ul+1):\n",
    "    temp=n\n",
    "    rev=0\n",
    "    while(temp>0):\n",
    "        rem=temp%10\n",
    "        rev=(rev*10)+rem\n",
    "        temp=temp//10\n",
    "    if(n==rev):\n",
    "        print(n,end=\" \")\n",
    "    "
   ]
  },
  {
   "cell_type": "code",
   "execution_count": null,
   "id": "b9d836fc",
   "metadata": {},
   "outputs": [],
   "source": []
  }
 ],
 "metadata": {
  "kernelspec": {
   "display_name": "Python 3 (ipykernel)",
   "language": "python",
   "name": "python3"
  },
  "language_info": {
   "codemirror_mode": {
    "name": "ipython",
    "version": 3
   },
   "file_extension": ".py",
   "mimetype": "text/x-python",
   "name": "python",
   "nbconvert_exporter": "python",
   "pygments_lexer": "ipython3",
   "version": "3.10.9"
  }
 },
 "nbformat": 4,
 "nbformat_minor": 5
}
