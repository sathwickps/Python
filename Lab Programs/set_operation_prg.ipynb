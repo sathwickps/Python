{
 "cells": [
  {
   "cell_type": "code",
   "execution_count": 1,
   "id": "66ecfb97",
   "metadata": {},
   "outputs": [
    {
     "name": "stdout",
     "output_type": "stream",
     "text": [
      "Union=  {1, 2, 3, 4, 5, 6, 7}\n",
      "Intersection=  {4, 5}\n",
      "Difference = {1, 2, 3}\n",
      "Symmetric Difference = {1, 2, 3, 6, 7}\n"
     ]
    }
   ],
   "source": [
    "a={1,2,3,4,5}\n",
    "b={4,5,6,7}\n",
    "\n",
    "#setunion\n",
    "print(\"Union= \",a|b)\n",
    "\n",
    "#setintersection\n",
    "print(\"Intersection= \",a&b)\n",
    "\n",
    "#setdifference\n",
    "print(\"Difference =\",a-b)\n",
    "\n",
    "#setsymmentricdifference\n",
    "print(\"Symmetric Difference =\",a^b)"
   ]
  },
  {
   "cell_type": "code",
   "execution_count": null,
   "id": "dc5f0151",
   "metadata": {},
   "outputs": [],
   "source": []
  }
 ],
 "metadata": {
  "kernelspec": {
   "display_name": "Python 3 (ipykernel)",
   "language": "python",
   "name": "python3"
  },
  "language_info": {
   "codemirror_mode": {
    "name": "ipython",
    "version": 3
   },
   "file_extension": ".py",
   "mimetype": "text/x-python",
   "name": "python",
   "nbconvert_exporter": "python",
   "pygments_lexer": "ipython3",
   "version": "3.10.9"
  }
 },
 "nbformat": 4,
 "nbformat_minor": 5
}
