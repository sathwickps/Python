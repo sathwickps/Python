{
 "cells": [
  {
   "cell_type": "code",
   "execution_count": 1,
   "id": "fa1aff5d",
   "metadata": {},
   "outputs": [
    {
     "name": "stdout",
     "output_type": "stream",
     "text": [
      "Please Enter the Width of a Rectangle: 5.2\n",
      "Please Enter the Height of a Rectangle: 6\n",
      "Area of a Rectangle is: 31.20 \n",
      "Enter the side: 5\n",
      "Area of the square= 25.0\n"
     ]
    }
   ],
   "source": [
    "# to find the Area of a Rectangle\n",
    "w = float(input('Please Enter the Width of a Rectangle: '))\n",
    "h = float(input('Please Enter the Height of a Rectangle: '))\n",
    "Area = w * h\n",
    "print(\"Area of a Rectangle is: %.2f \"%Area)\n",
    "# to find the Area of a square\n",
    "side = float(input(\"Enter the side: \"))\n",
    "Area = side*side\n",
    "print(\"Area of the square=\",Area)"
   ]
  },
  {
   "cell_type": "code",
   "execution_count": 2,
   "id": "63d50555",
   "metadata": {},
   "outputs": [
    {
     "name": "stdout",
     "output_type": "stream",
     "text": [
      "string After concatination: \n",
      "RCB Won the match\n",
      "Bharat petrol\n",
      "RCB  Won the match\n"
     ]
    }
   ],
   "source": [
    "# String concatination using (+) adddition operator.\n",
    "str1 = 'RCB '\n",
    "str2 = 'Won the match'\n",
    "a = str1 + str2\n",
    "print(\"string After concatination: \")\n",
    "print(a)\n",
    "#String concatination using format.\n",
    "var1 = \"Bharat\"\n",
    "var2 = \"petrol\"\n",
    "print(\"{} {}\".format(var1, var2))\n",
    "var3 = \"{} {}\".format(str1, str2)\n",
    "print(var3)"
   ]
  },
  {
   "cell_type": "code",
   "execution_count": 3,
   "id": "3fe09e12",
   "metadata": {},
   "outputs": [
    {
     "name": "stdout",
     "output_type": "stream",
     "text": [
      "Enter the string in upper case. BMS INSTITUTE OF TECHNOLOGY\n",
      "String after convert to lower : \n",
      "bms institute of technology\n",
      "bms institute of technology\n"
     ]
    }
   ],
   "source": [
    "# Read in upper case and print in lower case.\n",
    "str = input(\"Enter the string in upper case. \")\n",
    "# covert to lowercase using lower().\n",
    "a=str.lower()\n",
    "print(\"String after convert to lower : \")\n",
    "print(a)\n",
    "# covert to lowercase using swapcase().\n",
    "print(str.swapcase())"
   ]
  },
  {
   "cell_type": "code",
   "execution_count": 4,
   "id": "81586496",
   "metadata": {},
   "outputs": [
    {
     "name": "stdout",
     "output_type": "stream",
     "text": [
      "Enter principal Amount: 5524.56\n",
      "Enter rate: 6.4\n",
      "Enter time: 8\n",
      "Simple interest =  2828.57472\n",
      "Compound interest =  3550.1074384545655\n"
     ]
    }
   ],
   "source": [
    "p = float(input(\"Enter principal Amount: \"))\n",
    "r = float(input(\"Enter rate: \"))\n",
    "t = int(input(\"Enter time: \"))\n",
    "si = (p * r * t) / 100\n",
    "ci = p * ((1 + (r / 100 ))** t) - p\n",
    "print(\"Simple interest = \", si)\n",
    "print(\"Compound interest = \", ci)\n"
   ]
  },
  {
   "cell_type": "code",
   "execution_count": 5,
   "id": "618cb5ba",
   "metadata": {},
   "outputs": [
    {
     "name": "stdout",
     "output_type": "stream",
     "text": [
      "Enter the basic pay: 30000\n",
      "The total salary is: 34500.0\n"
     ]
    }
   ],
   "source": [
    "# Constants\n",
    "HRA_P = 0.10\n",
    "TA_P = 0.05\n",
    "# Get basic pay from the user\n",
    "basic_pay = float(input(\"Enter the basic pay: \"))\n",
    "# Calculate HRA and TA\n",
    "hra = HRA_P * basic_pay\n",
    "ta = TA_P * basic_pay\n",
    "# Calculate total salary\n",
    "salary = basic_pay + hra + ta\n",
    "# Print the salary\n",
    "print(\"The total salary is:\", salary)"
   ]
  },
  {
   "cell_type": "code",
   "execution_count": 7,
   "id": "c1274cc7",
   "metadata": {},
   "outputs": [
    {
     "name": "stdout",
     "output_type": "stream",
     "text": [
      "Enter a number or a character: bmsit\n",
      "Input is a lowercase character.\n"
     ]
    }
   ],
   "source": [
    "a=input(\"Enter a number or a character: \")\n",
    "if a.isdigit():\n",
    " print(\"Input is a number.\")\n",
    "elif a.isalpha():\n",
    " if a.isupper():\n",
    "     print(\"Input is an uppercase character.\")\n",
    " elif a.islower():\n",
    "     print(\"Input is a lowercase character.\")\n",
    "else:\n",
    "     print(\"Input is neither a number nor a character.\")\n"
   ]
  },
  {
   "cell_type": "code",
   "execution_count": 11,
   "id": "79dd9b94",
   "metadata": {},
   "outputs": [
    {
     "name": "stdout",
     "output_type": "stream",
     "text": [
      "Enter a number or a character: 5647\n",
      "Input is a number.\n"
     ]
    }
   ],
   "source": [
    "def check_input(input_str):\n",
    " if input_str.isdigit():\n",
    "     print(\"Input is a number.\")\n",
    " elif input_str.isalpha():\n",
    "    if input_str.isupper():\n",
    "         print(\"Input is an uppercase character.\")\n",
    "    elif input_str.islower():\n",
    "         print(\"Input is a lowercase character.\")\n",
    " else:\n",
    "     print(\"Input is neither a number nor a character.\")\n",
    "user_input = input(\"Enter a number or a character: \")\n",
    "check_input(user_input)\n"
   ]
  },
  {
   "cell_type": "code",
   "execution_count": 12,
   "id": "6fcc122d",
   "metadata": {},
   "outputs": [
    {
     "name": "stdout",
     "output_type": "stream",
     "text": [
      "Enter a number or a character: $\n",
      "Input is neither a number nor a character.\n"
     ]
    }
   ],
   "source": [
    "a=input(\"Enter a number or a character: \")\n",
    "if a.isdigit():\n",
    " print(\"Input is a number.\")\n",
    "elif a.isalpha():\n",
    "    if a.isupper():\n",
    "        print(\"Input is an uppercase character.\")\n",
    "    elif a.islower():\n",
    "        print(\"Input is a lowercase character.\")\n",
    "else:\n",
    "    print(\"Input is neither a number nor a character.\")\n"
   ]
  },
  {
   "cell_type": "code",
   "execution_count": 13,
   "id": "2316872f",
   "metadata": {},
   "outputs": [
    {
     "name": "stdout",
     "output_type": "stream",
     "text": [
      "Enter the number : 123456789\n",
      "After Reverse the Number is:  987654321\n"
     ]
    }
   ],
   "source": [
    "# Using WHILE loop\n",
    "num=int(input('Enter the number : '))\n",
    "rev_num = 0\n",
    "while num != 0:\n",
    " digit = num % 10\n",
    " rev_num = rev_num * 10 + digit\n",
    " num //= 10\n",
    "print(\"After Reverse the Number is: \" ,rev_num)\n"
   ]
  },
  {
   "cell_type": "code",
   "execution_count": 14,
   "id": "f62b1dcf",
   "metadata": {},
   "outputs": [
    {
     "name": "stdout",
     "output_type": "stream",
     "text": [
      "Enter the number : 8\n",
      "8 x 1 = 8\n",
      "8 x 2 = 16\n",
      "8 x 3 = 24\n",
      "8 x 4 = 32\n",
      "8 x 5 = 40\n",
      "8 x 6 = 48\n",
      "8 x 7 = 56\n",
      "8 x 8 = 64\n",
      "8 x 9 = 72\n",
      "8 x 10 = 80\n"
     ]
    }
   ],
   "source": [
    "# To take input from the user\n",
    "num =int(input(\"Enter the number : \"))\n",
    "for i in range(1, 11):\n",
    " print(num, 'x', i, '=', num*i)"
   ]
  },
  {
   "cell_type": "code",
   "execution_count": null,
   "id": "e9548c06",
   "metadata": {},
   "outputs": [],
   "source": []
  }
 ],
 "metadata": {
  "kernelspec": {
   "display_name": "Python 3 (ipykernel)",
   "language": "python",
   "name": "python3"
  },
  "language_info": {
   "codemirror_mode": {
    "name": "ipython",
    "version": 3
   },
   "file_extension": ".py",
   "mimetype": "text/x-python",
   "name": "python",
   "nbconvert_exporter": "python",
   "pygments_lexer": "ipython3",
   "version": "3.10.9"
  }
 },
 "nbformat": 4,
 "nbformat_minor": 5
}
